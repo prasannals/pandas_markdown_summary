{
 "cells": [
  {
   "cell_type": "code",
   "execution_count": 1,
   "metadata": {
    "ExecuteTime": {
     "end_time": "2020-04-04T14:42:31.252144Z",
     "start_time": "2020-04-04T14:42:30.857215Z"
    }
   },
   "outputs": [],
   "source": [
    "from pandas_md_summary import gen_markdown_for_df\n",
    "import pandas as pd\n",
    "import os"
   ]
  },
  {
   "cell_type": "code",
   "execution_count": 2,
   "metadata": {
    "ExecuteTime": {
     "end_time": "2020-04-04T14:42:31.256074Z",
     "start_time": "2020-04-04T14:42:31.253886Z"
    }
   },
   "outputs": [],
   "source": [
    "# configure output directory\n",
    "OUT_DIR = 'out'"
   ]
  },
  {
   "cell_type": "code",
   "execution_count": 3,
   "metadata": {
    "ExecuteTime": {
     "end_time": "2020-04-04T14:42:31.862055Z",
     "start_time": "2020-04-04T14:42:31.330438Z"
    }
   },
   "outputs": [
    {
     "name": "stderr",
     "output_type": "stream",
     "text": [
      "/home/prasannals/anaconda3/envs/appliedai/lib/python3.7/site-packages/IPython/core/interactiveshell.py:3057: DtypeWarning: Columns (1) have mixed types.Specify dtype option on import or set low_memory=False.\n",
      "  interactivity=interactivity, compiler=compiler, result=result)\n"
     ]
    },
    {
     "data": {
      "text/plain": [
       "(213191, 22)"
      ]
     },
     "execution_count": 3,
     "metadata": {},
     "output_type": "execute_result"
    }
   ],
   "source": [
    "# read in the DataFrame\n",
    "df = pd.read_csv('data/hospice_therapy_translated.csv')\n",
    "df.shape"
   ]
  },
  {
   "cell_type": "code",
   "execution_count": 4,
   "metadata": {
    "ExecuteTime": {
     "end_time": "2020-04-04T14:42:31.867595Z",
     "start_time": "2020-04-04T14:42:31.863768Z"
    }
   },
   "outputs": [
    {
     "data": {
      "text/plain": [
       "Index(['PatientID', 'IDBac', 'EHRID', 'Age', 'Sex', 'StartOfHospitalization',\n",
       "       'EndOfHospitalization', 'Diagnosis', 'TipeOfTherapy', 'DrugName',\n",
       "       'DrugCode', 'ATCCode', 'ComplementaryCodeDose', 'ActiveIngredient',\n",
       "       'Packacing', 'TypeOfUsage', 'Dose', 'HoursString', 'MaxDose',\n",
       "       'Frequency', 'DateTherapy', 'Duration'],\n",
       "      dtype='object')"
      ]
     },
     "execution_count": 4,
     "metadata": {},
     "output_type": "execute_result"
    }
   ],
   "source": [
    "df.columns"
   ]
  },
  {
   "cell_type": "code",
   "execution_count": 5,
   "metadata": {
    "ExecuteTime": {
     "end_time": "2020-04-04T14:42:32.416456Z",
     "start_time": "2020-04-04T14:42:31.869693Z"
    }
   },
   "outputs": [],
   "source": [
    "# generate the markdown summary of the DataFrame\n",
    "gen_markdown_for_df(df, 'therapy', out_dir=OUT_DIR, top=100)"
   ]
  },
  {
   "cell_type": "code",
   "execution_count": 6,
   "metadata": {
    "ExecuteTime": {
     "end_time": "2020-04-04T14:42:32.630852Z",
     "start_time": "2020-04-04T14:42:32.620777Z"
    }
   },
   "outputs": [
    {
     "data": {
      "text/plain": [
       "['therapy.md', 'therapy']"
      ]
     },
     "execution_count": 6,
     "metadata": {},
     "output_type": "execute_result"
    }
   ],
   "source": [
    "# checking the results\n",
    "os.listdir(OUT_DIR)"
   ]
  },
  {
   "cell_type": "code",
   "execution_count": 7,
   "metadata": {
    "ExecuteTime": {
     "end_time": "2020-04-04T14:42:33.875155Z",
     "start_time": "2020-04-04T14:42:33.870711Z"
    }
   },
   "outputs": [
    {
     "data": {
      "text/plain": [
       "['MaxDose.md',\n",
       " 'DrugName.md',\n",
       " 'Dose.md',\n",
       " 'Duration.md',\n",
       " 'PatientID.md',\n",
       " 'ATCCode.md',\n",
       " 'TipeOfTherapy.md',\n",
       " 'Packacing.md',\n",
       " 'Sex.md',\n",
       " 'HoursString.md',\n",
       " 'IDBac.md',\n",
       " 'Age.md',\n",
       " 'Frequency.md',\n",
       " 'Diagnosis.md',\n",
       " 'DateTherapy.md',\n",
       " 'TypeOfUsage.md',\n",
       " 'ComplementaryCodeDose.md',\n",
       " 'DrugCode.md',\n",
       " 'EndOfHospitalization.md',\n",
       " 'StartOfHospitalization.md',\n",
       " 'ActiveIngredient.md',\n",
       " 'EHRID.md']"
      ]
     },
     "execution_count": 7,
     "metadata": {},
     "output_type": "execute_result"
    }
   ],
   "source": [
    "# checking the results\n",
    "os.listdir(f'{OUT_DIR}/therapy')"
   ]
  },
  {
   "cell_type": "code",
   "execution_count": null,
   "metadata": {},
   "outputs": [],
   "source": []
  }
 ],
 "metadata": {
  "kernelspec": {
   "display_name": "Python 3.7.3 64-bit",
   "language": "python",
   "name": "python37364bitf2931828d74f4a6fb0142f1b88250f27"
  },
  "language_info": {
   "codemirror_mode": {
    "name": "ipython",
    "version": 3
   },
   "file_extension": ".py",
   "mimetype": "text/x-python",
   "name": "python",
   "nbconvert_exporter": "python",
   "pygments_lexer": "ipython3",
   "version": "3.7.3"
  }
 },
 "nbformat": 4,
 "nbformat_minor": 2
}
